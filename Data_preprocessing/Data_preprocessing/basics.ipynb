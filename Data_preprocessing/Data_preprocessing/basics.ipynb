{
 "cells": [
  {
   "cell_type": "markdown",
   "metadata": {},
   "source": [
    "# Variables"
   ]
  },
  {
   "cell_type": "code",
   "execution_count": 5,
   "metadata": {},
   "outputs": [],
   "source": [
    "x: int = 12\n",
    "y: int = 20\n",
    "x1: float = 2.2"
   ]
  },
  {
   "cell_type": "code",
   "execution_count": 6,
   "metadata": {},
   "outputs": [
    {
     "data": {
      "text/plain": [
       "float"
      ]
     },
     "execution_count": 6,
     "metadata": {},
     "output_type": "execute_result"
    }
   ],
   "source": [
    "type(x1)"
   ]
  },
  {
   "cell_type": "markdown",
   "metadata": {},
   "source": [
    "# List"
   ]
  },
  {
   "cell_type": "code",
   "execution_count": 20,
   "metadata": {},
   "outputs": [
    {
     "name": "stdout",
     "output_type": "stream",
     "text": [
      "5\n",
      "None\n"
     ]
    }
   ],
   "source": [
    "word_list= [\"hello\", \"world\"]\n",
    "word_list.append(2)\n",
    "word_list.append(5)\n",
    "\n",
    "index = word_list.index(\"world\")\n",
    "\n",
    "del word_list[index]\n",
    "print(word_list.pop())\n",
    "print(word_list.remove(\"hello\"))\n"
   ]
  },
  {
   "cell_type": "code",
   "execution_count": 23,
   "metadata": {},
   "outputs": [
    {
     "data": {
      "text/plain": [
       "['hello', 'world', 2, 5]"
      ]
     },
     "execution_count": 23,
     "metadata": {},
     "output_type": "execute_result"
    }
   ],
   "source": [
    "word_list= [\"hello\", \"world\"]\n",
    "word_list.append(2)\n",
    "word_list.append(5)\n",
    "\n",
    "word_list"
   ]
  },
  {
   "cell_type": "code",
   "execution_count": 24,
   "metadata": {},
   "outputs": [
    {
     "name": "stdout",
     "output_type": "stream",
     "text": [
      "hello\n",
      "world\n",
      "2\n",
      "5\n"
     ]
    }
   ],
   "source": [
    "for entry in word_list:\n",
    "    print(entry)"
   ]
  },
  {
   "cell_type": "markdown",
   "metadata": {},
   "source": [
    "# Sets"
   ]
  },
  {
   "cell_type": "code",
   "execution_count": 30,
   "metadata": {},
   "outputs": [
    {
     "data": {
      "text/plain": [
       "{'I',\n",
       " 'You',\n",
       " 'again!,',\n",
       " 'am',\n",
       " 'and',\n",
       " 'are',\n",
       " 'but',\n",
       " 'david',\n",
       " 'doing',\n",
       " \"don't\",\n",
       " 'everything',\n",
       " 'great,',\n",
       " 'hello',\n",
       " 'how',\n",
       " 'i',\n",
       " 'is',\n",
       " 'it',\n",
       " 'john',\n",
       " 'like',\n",
       " 'look',\n",
       " 'look,',\n",
       " 'me!,',\n",
       " 'movie',\n",
       " 'of',\n",
       " 'ok',\n",
       " 'ok!',\n",
       " 'pretty',\n",
       " 'rewatch',\n",
       " 'sad',\n",
       " \"that's\",\n",
       " 'the',\n",
       " 'to',\n",
       " 'want',\n",
       " 'way',\n",
       " 'wick',\n",
       " 'world',\n",
       " 'you'}"
      ]
     },
     "execution_count": 30,
     "metadata": {},
     "output_type": "execute_result"
    }
   ],
   "source": [
    "corpus = [\n",
    "    \"hello world how are you doing everything is ok! hello i am doing great, and everything is ok\",\n",
    "    \"I like the movie john wick and i is want to rewatch it again!, i like movie of david\",\n",
    "    \"You don't like the way you look, that's pretty sad to me!, I like the way i look but i don't like the way you look\"\n",
    "]\n",
    "\n",
    "sentence = \" \".join(corpus)\n",
    "set(sentence.split()) # unique words using sets"
   ]
  },
  {
   "cell_type": "markdown",
   "metadata": {},
   "source": [
    "# Dictionary"
   ]
  },
  {
   "cell_type": "code",
   "execution_count": 32,
   "metadata": {},
   "outputs": [],
   "source": [
    "# key value pair \n",
    "\n",
    "corpus = [\n",
    "    \"hello world how are you doing everything is ok! hello i am doing great, and everything is ok\",\n",
    "    \"I like the movie john wick and i is want to rewatch it again!, i like movie of david\",\n",
    "    \"You don't like the way you look, that's pretty sad to me!, I like the way i look but i don't like the way you look\"\n",
    "]\n",
    "\n",
    "sentence = \" \".join(corpus)\n",
    "vocabulary = set(sentence.split())\n",
    "\n",
    "word2index = dict()\n",
    "index2word = dict()\n",
    "for idx, word in enumerate(list(vocabulary)):\n",
    "    word2index[word] = idx\n",
    "    index2word[idx] = word\n",
    "    "
   ]
  },
  {
   "cell_type": "code",
   "execution_count": 38,
   "metadata": {},
   "outputs": [
    {
     "data": {
      "text/plain": [
       "{'but': 36,\n",
       " \"don't\": 35,\n",
       " 'john': 34,\n",
       " 'want': 33,\n",
       " 'are': 32,\n",
       " 'look,': 31,\n",
       " 'hello': 30,\n",
       " 'ok': 29,\n",
       " 'i': 28,\n",
       " 'movie': 27,\n",
       " \"that's\": 26,\n",
       " 'I': 25,\n",
       " 'of': 24,\n",
       " 'everything': 23,\n",
       " 'ok!': 22,\n",
       " 'again!,': 21,\n",
       " 'pretty': 20,\n",
       " 'way': 19,\n",
       " 'to': 18,\n",
       " 'rewatch': 17,\n",
       " 'and': 16,\n",
       " 'it': 15,\n",
       " 'the': 14,\n",
       " 'wick': 13,\n",
       " 'like': 12,\n",
       " 'you': 11,\n",
       " 'me!,': 10,\n",
       " 'am': 9,\n",
       " 'world': 8,\n",
       " 'is': 7,\n",
       " 'doing': 6,\n",
       " 'look': 5,\n",
       " 'how': 4,\n",
       " 'sad': 3,\n",
       " 'david': 2,\n",
       " 'great,': 1,\n",
       " 'You': 0}"
      ]
     },
     "execution_count": 38,
     "metadata": {},
     "output_type": "execute_result"
    }
   ],
   "source": [
    "dict(sorted(word2index.items(), key=lambda x: x[1], reverse=True))"
   ]
  },
  {
   "cell_type": "code",
   "execution_count": 40,
   "metadata": {},
   "outputs": [
    {
     "name": "stdout",
     "output_type": "stream",
     "text": [
      "You 0\n",
      "great, 1\n",
      "david 2\n",
      "sad 3\n",
      "how 4\n",
      "look 5\n",
      "doing 6\n",
      "is 7\n",
      "world 8\n",
      "am 9\n",
      "me!, 10\n",
      "you 11\n",
      "like 12\n",
      "wick 13\n",
      "the 14\n",
      "it 15\n",
      "and 16\n",
      "rewatch 17\n",
      "to 18\n",
      "way 19\n",
      "pretty 20\n",
      "again!, 21\n",
      "ok! 22\n",
      "everything 23\n",
      "of 24\n",
      "I 25\n",
      "that's 26\n",
      "movie 27\n",
      "i 28\n",
      "ok 29\n",
      "hello 30\n",
      "look, 31\n",
      "are 32\n",
      "want 33\n",
      "john 34\n",
      "don't 35\n",
      "but 36\n"
     ]
    },
    {
     "data": {
      "text/plain": [
       "0"
      ]
     },
     "execution_count": 40,
     "metadata": {},
     "output_type": "execute_result"
    }
   ],
   "source": [
    "for key, value in word2index.items():\n",
    "    print(key, value)\n",
    "\n"
   ]
  },
  {
   "cell_type": "code",
   "execution_count": 45,
   "metadata": {},
   "outputs": [
    {
     "name": "stdout",
     "output_type": "stream",
     "text": [
      "Word not present in vocabulary\n"
     ]
    }
   ],
   "source": [
    "try:\n",
    "    word2index[\"asjnfdnnd\"]\n",
    "except:\n",
    "    print(\"Word not present in vocabulary\")"
   ]
  },
  {
   "cell_type": "markdown",
   "metadata": {},
   "source": [
    "# If else condition"
   ]
  },
  {
   "cell_type": "code",
   "execution_count": 61,
   "metadata": {},
   "outputs": [],
   "source": [
    "a = [1,2,4,5,65,23,65,12]\n",
    "b = a.copy()\n",
    "for i in range(len(b)):\n",
    "    if b[i] == 65:\n",
    "        a.remove(b[i])"
   ]
  },
  {
   "cell_type": "code",
   "execution_count": 57,
   "metadata": {},
   "outputs": [
    {
     "data": {
      "text/plain": [
       "[1, 2, 4, 5, 65, 23, 65, 12]"
      ]
     },
     "execution_count": 57,
     "metadata": {},
     "output_type": "execute_result"
    }
   ],
   "source": [
    "b"
   ]
  },
  {
   "cell_type": "code",
   "execution_count": 60,
   "metadata": {},
   "outputs": [
    {
     "name": "stdout",
     "output_type": "stream",
     "text": [
      "hello\n",
      "hello\n",
      "hello\n",
      "hello\n"
     ]
    }
   ],
   "source": [
    "a = [1,2,4,5,65,23,65,12]\n",
    "for num in a:\n",
    "    if num == 65:\n",
    "        a.remove(num)\n",
    "    else:\n",
    "        print(\"hello\")"
   ]
  },
  {
   "cell_type": "code",
   "execution_count": 65,
   "metadata": {},
   "outputs": [
    {
     "name": "stdout",
     "output_type": "stream",
     "text": [
      "no\n"
     ]
    }
   ],
   "source": [
    "\n",
    "if 102 in b:\n",
    "    print(\"hello\")\n",
    "else:\n",
    "    print(\"no\")\n",
    "\n"
   ]
  },
  {
   "cell_type": "markdown",
   "metadata": {},
   "source": [
    "function defination and class defination"
   ]
  },
  {
   "cell_type": "code",
   "execution_count": 67,
   "metadata": {},
   "outputs": [
    {
     "data": {
      "text/plain": [
       "13"
      ]
     },
     "execution_count": 67,
     "metadata": {},
     "output_type": "execute_result"
    }
   ],
   "source": [
    "def addition(a, b): \n",
    "    if a  == 5:\n",
    "        a = 10\n",
    "    \n",
    "    return a+b\n",
    "\n",
    "\n",
    "\n",
    "addition(5,3)"
   ]
  },
  {
   "cell_type": "code",
   "execution_count": 87,
   "metadata": {},
   "outputs": [],
   "source": [
    "class VAL:\n",
    "    def __init__(self, a, b) -> None:\n",
    "        self.a = a\n",
    "        self.b = b \n",
    "\n",
    "class ADD(VAL):\n",
    "    def __init__(self) -> None:\n",
    "        super().__init__(2,3)\n",
    "        # constructor\n",
    "    def addition(self):\n",
    "        self.result_addition = self.a + self.b \n",
    "\n",
    "    def multiplication(self):\n",
    "        self.result_mult = self.a * self.b\n",
    "\n",
    "\n",
    "\n",
    "add = ADD()\n",
    "\n",
    "    "
   ]
  },
  {
   "cell_type": "code",
   "execution_count": 88,
   "metadata": {},
   "outputs": [],
   "source": [
    "add.addition()\n",
    "add.multiplication()"
   ]
  },
  {
   "cell_type": "code",
   "execution_count": 89,
   "metadata": {},
   "outputs": [
    {
     "data": {
      "text/plain": [
       "(5, 6)"
      ]
     },
     "execution_count": 89,
     "metadata": {},
     "output_type": "execute_result"
    }
   ],
   "source": [
    "add.result_addition, add.result_mult"
   ]
  }
 ],
 "metadata": {
  "kernelspec": {
   "display_name": "env-langchain",
   "language": "python",
   "name": "python3"
  },
  "language_info": {
   "codemirror_mode": {
    "name": "ipython",
    "version": 3
   },
   "file_extension": ".py",
   "mimetype": "text/x-python",
   "name": "python",
   "nbconvert_exporter": "python",
   "pygments_lexer": "ipython3",
   "version": "3.12.2"
  }
 },
 "nbformat": 4,
 "nbformat_minor": 2
}
