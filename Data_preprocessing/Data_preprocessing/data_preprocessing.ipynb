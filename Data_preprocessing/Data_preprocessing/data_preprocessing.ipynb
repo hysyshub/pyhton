{
 "cells": [
  {
   "cell_type": "code",
   "execution_count": 1,
   "metadata": {},
   "outputs": [],
   "source": [
    "import pandas as pd\n",
    "import numpy as np\n",
    "import matplotlib.pyplot as plt\n",
    "import seaborn as sns"
   ]
  },
  {
   "cell_type": "markdown",
   "metadata": {},
   "source": [
    " Pandas reading the dataset"
   ]
  },
  {
   "cell_type": "code",
   "execution_count": 2,
   "metadata": {},
   "outputs": [
    {
     "data": {
      "text/html": [
       "<div>\n",
       "<style scoped>\n",
       "    .dataframe tbody tr th:only-of-type {\n",
       "        vertical-align: middle;\n",
       "    }\n",
       "\n",
       "    .dataframe tbody tr th {\n",
       "        vertical-align: top;\n",
       "    }\n",
       "\n",
       "    .dataframe thead th {\n",
       "        text-align: right;\n",
       "    }\n",
       "</style>\n",
       "<table border=\"1\" class=\"dataframe\">\n",
       "  <thead>\n",
       "    <tr style=\"text-align: right;\">\n",
       "      <th></th>\n",
       "      <th>Unnamed: 0</th>\n",
       "      <th>id</th>\n",
       "      <th>age</th>\n",
       "      <th>gender</th>\n",
       "      <th>income</th>\n",
       "      <th>days_on_platform</th>\n",
       "      <th>city</th>\n",
       "      <th>purchases</th>\n",
       "    </tr>\n",
       "  </thead>\n",
       "  <tbody>\n",
       "    <tr>\n",
       "      <th>0</th>\n",
       "      <td>0</td>\n",
       "      <td>0</td>\n",
       "      <td>NaN</td>\n",
       "      <td>Male</td>\n",
       "      <td>126895</td>\n",
       "      <td>14.0</td>\n",
       "      <td>San Francisco</td>\n",
       "      <td>0</td>\n",
       "    </tr>\n",
       "    <tr>\n",
       "      <th>1</th>\n",
       "      <td>1</td>\n",
       "      <td>1</td>\n",
       "      <td>NaN</td>\n",
       "      <td>Male</td>\n",
       "      <td>161474</td>\n",
       "      <td>14.0</td>\n",
       "      <td>Tokyo</td>\n",
       "      <td>0</td>\n",
       "    </tr>\n",
       "    <tr>\n",
       "      <th>2</th>\n",
       "      <td>2</td>\n",
       "      <td>2</td>\n",
       "      <td>24.0</td>\n",
       "      <td>Male</td>\n",
       "      <td>104723</td>\n",
       "      <td>34.0</td>\n",
       "      <td>London</td>\n",
       "      <td>1</td>\n",
       "    </tr>\n",
       "    <tr>\n",
       "      <th>3</th>\n",
       "      <td>3</td>\n",
       "      <td>3</td>\n",
       "      <td>29.0</td>\n",
       "      <td>Male</td>\n",
       "      <td>43791</td>\n",
       "      <td>28.0</td>\n",
       "      <td>London</td>\n",
       "      <td>2</td>\n",
       "    </tr>\n",
       "    <tr>\n",
       "      <th>4</th>\n",
       "      <td>4</td>\n",
       "      <td>4</td>\n",
       "      <td>18.0</td>\n",
       "      <td>Female</td>\n",
       "      <td>132181</td>\n",
       "      <td>26.0</td>\n",
       "      <td>London</td>\n",
       "      <td>2</td>\n",
       "    </tr>\n",
       "    <tr>\n",
       "      <th>5</th>\n",
       "      <td>5</td>\n",
       "      <td>5</td>\n",
       "      <td>23.0</td>\n",
       "      <td>Male</td>\n",
       "      <td>12315</td>\n",
       "      <td>14.0</td>\n",
       "      <td>New York City</td>\n",
       "      <td>0</td>\n",
       "    </tr>\n",
       "    <tr>\n",
       "      <th>6</th>\n",
       "      <td>6</td>\n",
       "      <td>6</td>\n",
       "      <td>NaN</td>\n",
       "      <td>Male</td>\n",
       "      <td>51679</td>\n",
       "      <td>30.0</td>\n",
       "      <td>Tokyo</td>\n",
       "      <td>0</td>\n",
       "    </tr>\n",
       "    <tr>\n",
       "      <th>7</th>\n",
       "      <td>7</td>\n",
       "      <td>7</td>\n",
       "      <td>NaN</td>\n",
       "      <td>Female</td>\n",
       "      <td>53341</td>\n",
       "      <td>43.0</td>\n",
       "      <td>San Francisco</td>\n",
       "      <td>1</td>\n",
       "    </tr>\n",
       "    <tr>\n",
       "      <th>8</th>\n",
       "      <td>8</td>\n",
       "      <td>8</td>\n",
       "      <td>46.0</td>\n",
       "      <td>Male</td>\n",
       "      <td>129157</td>\n",
       "      <td>23.0</td>\n",
       "      <td>New York City</td>\n",
       "      <td>0</td>\n",
       "    </tr>\n",
       "    <tr>\n",
       "      <th>9</th>\n",
       "      <td>9</td>\n",
       "      <td>9</td>\n",
       "      <td>49.0</td>\n",
       "      <td>Female</td>\n",
       "      <td>76842</td>\n",
       "      <td>19.0</td>\n",
       "      <td>Tokyo</td>\n",
       "      <td>2</td>\n",
       "    </tr>\n",
       "    <tr>\n",
       "      <th>10</th>\n",
       "      <td>10</td>\n",
       "      <td>10</td>\n",
       "      <td>NaN</td>\n",
       "      <td>Male</td>\n",
       "      <td>159506</td>\n",
       "      <td>7.0</td>\n",
       "      <td>New York City</td>\n",
       "      <td>0</td>\n",
       "    </tr>\n",
       "    <tr>\n",
       "      <th>11</th>\n",
       "      <td>11</td>\n",
       "      <td>11</td>\n",
       "      <td>NaN</td>\n",
       "      <td>Male</td>\n",
       "      <td>110343</td>\n",
       "      <td>30.0</td>\n",
       "      <td>San Francisco</td>\n",
       "      <td>1</td>\n",
       "    </tr>\n",
       "    <tr>\n",
       "      <th>12</th>\n",
       "      <td>12</td>\n",
       "      <td>12</td>\n",
       "      <td>12.0</td>\n",
       "      <td>Male</td>\n",
       "      <td>130521</td>\n",
       "      <td>12.0</td>\n",
       "      <td>London</td>\n",
       "      <td>1</td>\n",
       "    </tr>\n",
       "    <tr>\n",
       "      <th>13</th>\n",
       "      <td>13</td>\n",
       "      <td>13</td>\n",
       "      <td>NaN</td>\n",
       "      <td>Male</td>\n",
       "      <td>105418</td>\n",
       "      <td>13.0</td>\n",
       "      <td>Miami</td>\n",
       "      <td>0</td>\n",
       "    </tr>\n",
       "    <tr>\n",
       "      <th>14</th>\n",
       "      <td>14</td>\n",
       "      <td>14</td>\n",
       "      <td>NaN</td>\n",
       "      <td>Male</td>\n",
       "      <td>95060</td>\n",
       "      <td>7.0</td>\n",
       "      <td>Tokyo</td>\n",
       "      <td>1</td>\n",
       "    </tr>\n",
       "    <tr>\n",
       "      <th>15</th>\n",
       "      <td>15</td>\n",
       "      <td>15</td>\n",
       "      <td>31.0</td>\n",
       "      <td>Female</td>\n",
       "      <td>226249</td>\n",
       "      <td>20.0</td>\n",
       "      <td>Miami</td>\n",
       "      <td>0</td>\n",
       "    </tr>\n",
       "    <tr>\n",
       "      <th>16</th>\n",
       "      <td>16</td>\n",
       "      <td>16</td>\n",
       "      <td>19.0</td>\n",
       "      <td>Female</td>\n",
       "      <td>51434</td>\n",
       "      <td>18.0</td>\n",
       "      <td>New York City</td>\n",
       "      <td>0</td>\n",
       "    </tr>\n",
       "    <tr>\n",
       "      <th>17</th>\n",
       "      <td>17</td>\n",
       "      <td>17</td>\n",
       "      <td>27.0</td>\n",
       "      <td>Female</td>\n",
       "      <td>177582</td>\n",
       "      <td>2.0</td>\n",
       "      <td>London</td>\n",
       "      <td>0</td>\n",
       "    </tr>\n",
       "    <tr>\n",
       "      <th>18</th>\n",
       "      <td>18</td>\n",
       "      <td>18</td>\n",
       "      <td>10.0</td>\n",
       "      <td>Female</td>\n",
       "      <td>260</td>\n",
       "      <td>32.0</td>\n",
       "      <td>San Francisco</td>\n",
       "      <td>0</td>\n",
       "    </tr>\n",
       "    <tr>\n",
       "      <th>19</th>\n",
       "      <td>19</td>\n",
       "      <td>19</td>\n",
       "      <td>32.0</td>\n",
       "      <td>Female</td>\n",
       "      <td>15174</td>\n",
       "      <td>13.0</td>\n",
       "      <td>Tokyo</td>\n",
       "      <td>1</td>\n",
       "    </tr>\n",
       "  </tbody>\n",
       "</table>\n",
       "</div>"
      ],
      "text/plain": [
       "    Unnamed: 0  id   age  gender  income  days_on_platform           city  \\\n",
       "0            0   0   NaN    Male  126895              14.0  San Francisco   \n",
       "1            1   1   NaN    Male  161474              14.0          Tokyo   \n",
       "2            2   2  24.0    Male  104723              34.0         London   \n",
       "3            3   3  29.0    Male   43791              28.0         London   \n",
       "4            4   4  18.0  Female  132181              26.0         London   \n",
       "5            5   5  23.0    Male   12315              14.0  New York City   \n",
       "6            6   6   NaN    Male   51679              30.0          Tokyo   \n",
       "7            7   7   NaN  Female   53341              43.0  San Francisco   \n",
       "8            8   8  46.0    Male  129157              23.0  New York City   \n",
       "9            9   9  49.0  Female   76842              19.0          Tokyo   \n",
       "10          10  10   NaN    Male  159506               7.0  New York City   \n",
       "11          11  11   NaN    Male  110343              30.0  San Francisco   \n",
       "12          12  12  12.0    Male  130521              12.0         London   \n",
       "13          13  13   NaN    Male  105418              13.0          Miami   \n",
       "14          14  14   NaN    Male   95060               7.0          Tokyo   \n",
       "15          15  15  31.0  Female  226249              20.0          Miami   \n",
       "16          16  16  19.0  Female   51434              18.0  New York City   \n",
       "17          17  17  27.0  Female  177582               2.0         London   \n",
       "18          18  18  10.0  Female     260              32.0  San Francisco   \n",
       "19          19  19  32.0  Female   15174              13.0          Tokyo   \n",
       "\n",
       "    purchases  \n",
       "0           0  \n",
       "1           0  \n",
       "2           1  \n",
       "3           2  \n",
       "4           2  \n",
       "5           0  \n",
       "6           0  \n",
       "7           1  \n",
       "8           0  \n",
       "9           2  \n",
       "10          0  \n",
       "11          1  \n",
       "12          1  \n",
       "13          0  \n",
       "14          1  \n",
       "15          0  \n",
       "16          0  \n",
       "17          0  \n",
       "18          0  \n",
       "19          1  "
      ]
     },
     "execution_count": 2,
     "metadata": {},
     "output_type": "execute_result"
    }
   ],
   "source": [
    "df = pd.read_csv(\"clv_data.csv\")\n",
    "df.head(20)"
   ]
  },
  {
   "cell_type": "code",
   "execution_count": 3,
   "metadata": {},
   "outputs": [
    {
     "data": {
      "text/plain": [
       "(5000, 8)"
      ]
     },
     "execution_count": 3,
     "metadata": {},
     "output_type": "execute_result"
    }
   ],
   "source": [
    "df.shape"
   ]
  },
  {
   "cell_type": "code",
   "execution_count": 4,
   "metadata": {},
   "outputs": [
    {
     "data": {
      "text/html": [
       "<div>\n",
       "<style scoped>\n",
       "    .dataframe tbody tr th:only-of-type {\n",
       "        vertical-align: middle;\n",
       "    }\n",
       "\n",
       "    .dataframe tbody tr th {\n",
       "        vertical-align: top;\n",
       "    }\n",
       "\n",
       "    .dataframe thead th {\n",
       "        text-align: right;\n",
       "    }\n",
       "</style>\n",
       "<table border=\"1\" class=\"dataframe\">\n",
       "  <thead>\n",
       "    <tr style=\"text-align: right;\">\n",
       "      <th></th>\n",
       "      <th>age</th>\n",
       "      <th>gender</th>\n",
       "      <th>income</th>\n",
       "      <th>days_on_platform</th>\n",
       "      <th>city</th>\n",
       "      <th>purchases</th>\n",
       "    </tr>\n",
       "  </thead>\n",
       "  <tbody>\n",
       "    <tr>\n",
       "      <th>0</th>\n",
       "      <td>NaN</td>\n",
       "      <td>Male</td>\n",
       "      <td>126895</td>\n",
       "      <td>14.0</td>\n",
       "      <td>San Francisco</td>\n",
       "      <td>0</td>\n",
       "    </tr>\n",
       "    <tr>\n",
       "      <th>1</th>\n",
       "      <td>NaN</td>\n",
       "      <td>Male</td>\n",
       "      <td>161474</td>\n",
       "      <td>14.0</td>\n",
       "      <td>Tokyo</td>\n",
       "      <td>0</td>\n",
       "    </tr>\n",
       "    <tr>\n",
       "      <th>2</th>\n",
       "      <td>24.0</td>\n",
       "      <td>Male</td>\n",
       "      <td>104723</td>\n",
       "      <td>34.0</td>\n",
       "      <td>London</td>\n",
       "      <td>1</td>\n",
       "    </tr>\n",
       "    <tr>\n",
       "      <th>3</th>\n",
       "      <td>29.0</td>\n",
       "      <td>Male</td>\n",
       "      <td>43791</td>\n",
       "      <td>28.0</td>\n",
       "      <td>London</td>\n",
       "      <td>2</td>\n",
       "    </tr>\n",
       "    <tr>\n",
       "      <th>4</th>\n",
       "      <td>18.0</td>\n",
       "      <td>Female</td>\n",
       "      <td>132181</td>\n",
       "      <td>26.0</td>\n",
       "      <td>London</td>\n",
       "      <td>2</td>\n",
       "    </tr>\n",
       "  </tbody>\n",
       "</table>\n",
       "</div>"
      ],
      "text/plain": [
       "    age  gender  income  days_on_platform           city  purchases\n",
       "0   NaN    Male  126895              14.0  San Francisco          0\n",
       "1   NaN    Male  161474              14.0          Tokyo          0\n",
       "2  24.0    Male  104723              34.0         London          1\n",
       "3  29.0    Male   43791              28.0         London          2\n",
       "4  18.0  Female  132181              26.0         London          2"
      ]
     },
     "execution_count": 4,
     "metadata": {},
     "output_type": "execute_result"
    }
   ],
   "source": [
    "# remove the unnamed column\n",
    "df.drop(columns=[\"Unnamed: 0\",\"id\"], axis=1, inplace=True)\n",
    "df.head()"
   ]
  },
  {
   "cell_type": "code",
   "execution_count": 5,
   "metadata": {},
   "outputs": [
    {
     "data": {
      "text/plain": [
       "age                 2446\n",
       "gender                 0\n",
       "income                 0\n",
       "days_on_platform     141\n",
       "city                   0\n",
       "purchases              0\n",
       "dtype: int64"
      ]
     },
     "execution_count": 5,
     "metadata": {},
     "output_type": "execute_result"
    }
   ],
   "source": [
    "df.isna().sum()"
   ]
  },
  {
   "cell_type": "markdown",
   "metadata": {},
   "source": [
    "Let's check for each column the missing dataset."
   ]
  },
  {
   "cell_type": "code",
   "execution_count": 6,
   "metadata": {},
   "outputs": [
    {
     "data": {
      "image/png": "[encoded data removed]",
      "text/plain": [
       "<Figure size 640x480 with 1 Axes>"
      ]
     },
     "metadata": {},
     "output_type": "display_data"
    }
   ],
   "source": [
    "# let's plot the number of NaN values \n",
    "df.isna().sum().plot(kind=\"bar\")\n",
    "plt.grid()"
   ]
  },
  {
   "cell_type": "code",
   "execution_count": 7,
   "metadata": {},
   "outputs": [
    {
     "name": "stdout",
     "output_type": "stream",
     "text": [
      "(2554, 6)\n"
     ]
    },
    {
     "name": "stderr",
     "output_type": "stream",
     "text": [
      "/var/folders/rw/s894sbjd7tx1dd507lv02bgm0000gn/T/ipykernel_1536/3463127745.py:4: UserWarning: Boolean Series key will be reindexed to match DataFrame index.\n",
      "  df_new = df_new[~df[\"days_on_platform\"].isna()]\n"
     ]
    },
    {
     "data": {
      "text/plain": [
       "(2476, 6)"
      ]
     },
     "execution_count": 7,
     "metadata": {},
     "output_type": "execute_result"
    }
   ],
   "source": [
    "# first is simply remove the missing value \n",
    "df_new = df[~df[\"age\"].isna()]\n",
    "print(df_new.shape)\n",
    "df_new = df_new[~df[\"days_on_platform\"].isna()]\n",
    "df_new.shape"
   ]
  },
  {
   "cell_type": "code",
   "execution_count": 8,
   "metadata": {},
   "outputs": [
    {
     "data": {
      "text/plain": [
       "21.0"
      ]
     },
     "execution_count": 8,
     "metadata": {},
     "output_type": "execute_result"
    }
   ],
   "source": [
    "df[\"days_on_platform\"].median()"
   ]
  },
  {
   "cell_type": "code",
   "execution_count": 9,
   "metadata": {},
   "outputs": [
    {
     "data": {
      "image/png": "[encoded data removed]",
      "text/plain": [
       "<Figure size 640x480 with 1 Axes>"
      ]
     },
     "metadata": {},
     "output_type": "display_data"
    }
   ],
   "source": [
    "# instead of removing try to impute these value \n",
    "# if the distribution is gaussian than use mean if we have more outlier than use median \n",
    "# in case of the categorical value we simply impute with strings.\n",
    "from sklearn.impute import SimpleImputer\n",
    "\n",
    "df_copy = df.copy()\n",
    "df_copy[\"age\"].plot(kind=\"box\")\n",
    "plt.grid()\n",
    "plt.show()\n"
   ]
  },
  {
   "cell_type": "code",
   "execution_count": 10,
   "metadata": {},
   "outputs": [
    {
     "data": {
      "text/plain": [
       "array([[30.20203602],\n",
       "       [30.20203602],\n",
       "       [24.        ],\n",
       "       ...,\n",
       "       [30.20203602],\n",
       "       [30.20203602],\n",
       "       [30.20203602]])"
      ]
     },
     "execution_count": 10,
     "metadata": {},
     "output_type": "execute_result"
    }
   ],
   "source": [
    "imputer = SimpleImputer(missing_values=np.nan, strategy=\"mean\")\n",
    "\n",
    "age = imputer.fit_transform(df_copy[[\"age\"]])\n",
    "age"
   ]
  },
  {
   "cell_type": "code",
   "execution_count": 11,
   "metadata": {},
   "outputs": [],
   "source": [
    "df_copy[\"age\"] = pd.DataFrame(age)"
   ]
  },
  {
   "cell_type": "code",
   "execution_count": 12,
   "metadata": {},
   "outputs": [
    {
     "data": {
      "text/html": [
       "<div>\n",
       "<style scoped>\n",
       "    .dataframe tbody tr th:only-of-type {\n",
       "        vertical-align: middle;\n",
       "    }\n",
       "\n",
       "    .dataframe tbody tr th {\n",
       "        vertical-align: top;\n",
       "    }\n",
       "\n",
       "    .dataframe thead th {\n",
       "        text-align: right;\n",
       "    }\n",
       "</style>\n",
       "<table border=\"1\" class=\"dataframe\">\n",
       "  <thead>\n",
       "    <tr style=\"text-align: right;\">\n",
       "      <th></th>\n",
       "      <th>age</th>\n",
       "      <th>gender</th>\n",
       "      <th>income</th>\n",
       "      <th>days_on_platform</th>\n",
       "      <th>city</th>\n",
       "      <th>purchases</th>\n",
       "    </tr>\n",
       "  </thead>\n",
       "  <tbody>\n",
       "    <tr>\n",
       "      <th>0</th>\n",
       "      <td>30.202036</td>\n",
       "      <td>Male</td>\n",
       "      <td>126895</td>\n",
       "      <td>14.0</td>\n",
       "      <td>San Francisco</td>\n",
       "      <td>0</td>\n",
       "    </tr>\n",
       "    <tr>\n",
       "      <th>1</th>\n",
       "      <td>30.202036</td>\n",
       "      <td>Male</td>\n",
       "      <td>161474</td>\n",
       "      <td>14.0</td>\n",
       "      <td>Tokyo</td>\n",
       "      <td>0</td>\n",
       "    </tr>\n",
       "    <tr>\n",
       "      <th>2</th>\n",
       "      <td>24.000000</td>\n",
       "      <td>Male</td>\n",
       "      <td>104723</td>\n",
       "      <td>34.0</td>\n",
       "      <td>London</td>\n",
       "      <td>1</td>\n",
       "    </tr>\n",
       "    <tr>\n",
       "      <th>3</th>\n",
       "      <td>29.000000</td>\n",
       "      <td>Male</td>\n",
       "      <td>43791</td>\n",
       "      <td>28.0</td>\n",
       "      <td>London</td>\n",
       "      <td>2</td>\n",
       "    </tr>\n",
       "    <tr>\n",
       "      <th>4</th>\n",
       "      <td>18.000000</td>\n",
       "      <td>Female</td>\n",
       "      <td>132181</td>\n",
       "      <td>26.0</td>\n",
       "      <td>London</td>\n",
       "      <td>2</td>\n",
       "    </tr>\n",
       "  </tbody>\n",
       "</table>\n",
       "</div>"
      ],
      "text/plain": [
       "         age  gender  income  days_on_platform           city  purchases\n",
       "0  30.202036    Male  126895              14.0  San Francisco          0\n",
       "1  30.202036    Male  161474              14.0          Tokyo          0\n",
       "2  24.000000    Male  104723              34.0         London          1\n",
       "3  29.000000    Male   43791              28.0         London          2\n",
       "4  18.000000  Female  132181              26.0         London          2"
      ]
     },
     "execution_count": 12,
     "metadata": {},
     "output_type": "execute_result"
    }
   ],
   "source": [
    "df_copy.head()"
   ]
  },
  {
   "cell_type": "code",
   "execution_count": 13,
   "metadata": {},
   "outputs": [
    {
     "data": {
      "text/plain": [
       "age                   0\n",
       "gender                0\n",
       "income                0\n",
       "days_on_platform    141\n",
       "city                  0\n",
       "purchases             0\n",
       "dtype: int64"
      ]
     },
     "execution_count": 13,
     "metadata": {},
     "output_type": "execute_result"
    }
   ],
   "source": [
    "df_copy.isna().sum()"
   ]
  },
  {
   "cell_type": "code",
   "execution_count": 14,
   "metadata": {},
   "outputs": [
    {
     "data": {
      "text/plain": [
       "(5000, 6)"
      ]
     },
     "execution_count": 14,
     "metadata": {},
     "output_type": "execute_result"
    }
   ],
   "source": [
    "df_copy.shape"
   ]
  },
  {
   "cell_type": "code",
   "execution_count": 15,
   "metadata": {},
   "outputs": [
    {
     "data": {
      "image/png": "[encoded data removed]",
      "text/plain": [
       "<Figure size 640x480 with 1 Axes>"
      ]
     },
     "metadata": {},
     "output_type": "display_data"
    }
   ],
   "source": [
    "df_copy[\"days_on_platform\"].plot(kind=\"box\")\n",
    "plt.grid()\n",
    "plt.show()"
   ]
  },
  {
   "cell_type": "code",
   "execution_count": 16,
   "metadata": {},
   "outputs": [],
   "source": [
    "imputer = SimpleImputer(missing_values=np.nan, strategy=\"median\")\n",
    "days_on_platform = imputer.fit_transform(df_copy[[\"days_on_platform\"]])\n",
    "\n",
    "df_copy[\"days_on_platform\"] = pd.DataFrame(days_on_platform)\n",
    "\n"
   ]
  },
  {
   "cell_type": "code",
   "execution_count": 17,
   "metadata": {},
   "outputs": [
    {
     "data": {
      "text/plain": [
       "age                 0\n",
       "gender              0\n",
       "income              0\n",
       "days_on_platform    0\n",
       "city                0\n",
       "purchases           0\n",
       "dtype: int64"
      ]
     },
     "execution_count": 17,
     "metadata": {},
     "output_type": "execute_result"
    }
   ],
   "source": [
    "df_copy.isna().sum()"
   ]
  },
  {
   "cell_type": "markdown",
   "metadata": {},
   "source": [
    "How to handle outliers"
   ]
  },
  {
   "cell_type": "markdown",
   "metadata": {},
   "source": [
    "<ul>\n",
    "<li> 25 percentile - (1.5 * iqr) -> lower bound  </li>\n",
    "<li>75 percentile + (1.5 * iqr) -> uper bound</li>\n",
    "</ul>"
   ]
  },
  {
   "cell_type": "code",
   "execution_count": 18,
   "metadata": {},
   "outputs": [],
   "source": [
    "def InterQuantileRange(data):\n",
    "    percentile_25 = np.percentile(data, 25)\n",
    "    percentile_75 = np.percentile(data, 75)\n",
    "\n",
    "    IQR = percentile_75 - percentile_25 # standar formula\n",
    "\n",
    "    lwr_bound = percentile_25 - (1.5*IQR)\n",
    "    upr_bound = percentile_75 + (1.5*IQR)\n",
    "\n",
    "    return lwr_bound, upr_bound\n"
   ]
  },
  {
   "cell_type": "code",
   "execution_count": 19,
   "metadata": {},
   "outputs": [
    {
     "data": {
      "image/png": "[encoded data removed]",
      "text/plain": [
       "<Figure size 640x480 with 1 Axes>"
      ]
     },
     "metadata": {},
     "output_type": "display_data"
    }
   ],
   "source": [
    "# check which column has outliers.\n",
    "\n",
    "def BoxPlot(data, columname):\n",
    "    sns.boxplot(x=\"age\", data=data)\n",
    "    plt.title(f\"Column Name {columname}\")\n",
    "    plt.show()\n",
    "\n",
    "BoxPlot(df_copy, \"age\")"
   ]
  },
  {
   "cell_type": "code",
   "execution_count": 20,
   "metadata": {},
   "outputs": [
    {
     "data": {
      "image/png": "[encoded data removed]",
      "text/plain": [
       "<Figure size 640x480 with 1 Axes>"
      ]
     },
     "metadata": {},
     "output_type": "display_data"
    }
   ],
   "source": [
    "BoxPlot(df_copy, \"days_on_platform\")"
   ]
  },
  {
   "cell_type": "code",
   "execution_count": 21,
   "metadata": {},
   "outputs": [
    {
     "data": {
      "image/png": "[encoded data removed]",
      "text/plain": [
       "<Figure size 640x480 with 1 Axes>"
      ]
     },
     "metadata": {},
     "output_type": "display_data"
    }
   ],
   "source": [
    "BoxPlot(df_copy, \"income\")"
   ]
  },
  {
   "cell_type": "code",
   "execution_count": 22,
   "metadata": {},
   "outputs": [
    {
     "data": {
      "text/plain": [
       "(28.5, 32.5)"
      ]
     },
     "execution_count": 22,
     "metadata": {},
     "output_type": "execute_result"
    }
   ],
   "source": [
    "lwr_bound, upr_bound = InterQuantileRange(df_copy[\"age\"].values)\n",
    "lwr_bound, upr_bound"
   ]
  },
  {
   "cell_type": "code",
   "execution_count": 23,
   "metadata": {},
   "outputs": [],
   "source": [
    "df_copy.loc[df_copy[\"age\"] < lwr_bound, \"age\"] = lwr_bound\n",
    "df_copy.loc[df_copy[\"age\"] > upr_bound, \"age\"] = upr_bound\n",
    "\n",
    "# we can do for \n",
    "df_copy.loc[df_copy[\"days_on_platform\"] < lwr_bound, \"days_on_platform\"] = lwr_bound\n",
    "df_copy.loc[df_copy[\"days_on_platform\"] > upr_bound, \"days_on_platform\"] = upr_bound"
   ]
  },
  {
   "cell_type": "code",
   "execution_count": 24,
   "metadata": {},
   "outputs": [
    {
     "data": {
      "image/png": "[encoded data removed]",
      "text/plain": [
       "<Figure size 640x480 with 1 Axes>"
      ]
     },
     "metadata": {},
     "output_type": "display_data"
    }
   ],
   "source": [
    "BoxPlot(df_copy, \"age\")"
   ]
  },
  {
   "cell_type": "code",
   "execution_count": 25,
   "metadata": {},
   "outputs": [
    {
     "data": {
      "image/png": "[encoded data removed]",
      "text/plain": [
       "<Figure size 640x480 with 1 Axes>"
      ]
     },
     "metadata": {},
     "output_type": "display_data"
    }
   ],
   "source": [
    "BoxPlot(df_copy, \"days_on_platform\")"
   ]
  },
  {
   "cell_type": "markdown",
   "metadata": {},
   "source": [
    "Deal with text data"
   ]
  },
  {
   "cell_type": "code",
   "execution_count": 26,
   "metadata": {},
   "outputs": [
    {
     "data": {
      "text/plain": [
       "{'hello': 0.1111111111111111,\n",
       " 'world': 0.05555555555555555,\n",
       " 'how': 0.05555555555555555,\n",
       " 'are': 0.05555555555555555,\n",
       " 'you': 0.05555555555555555,\n",
       " 'doing': 0.1111111111111111,\n",
       " 'everything': 0.1111111111111111,\n",
       " 'is': 0.1111111111111111,\n",
       " 'ok!': 0.05555555555555555,\n",
       " 'i': 0.05555555555555555,\n",
       " 'am': 0.05555555555555555,\n",
       " 'great,': 0.05555555555555555,\n",
       " 'and': 0.05555555555555555,\n",
       " 'ok': 0.05555555555555555}"
      ]
     },
     "execution_count": 26,
     "metadata": {},
     "output_type": "execute_result"
    }
   ],
   "source": [
    "from collections import Counter\n",
    "# 1. TF-IDF \n",
    "corpus = [\n",
    "    \"hello world how are you doing everything is ok! hello i am doing great, and everything is ok\",\n",
    "    \"I like the movie john wick and i is want to rewatch it again!, i like movie of david\",\n",
    "    \"You don't like the way you look, that's pretty is sad to me!, I like the way i look but i don't like the way you look\"\n",
    "]\n",
    "\n",
    "d = corpus[0] # small d from overall documents\n",
    "total_number_of_words = len(d.split())\n",
    "all_terms = Counter(d.split())\n",
    "\n",
    "term_frequency = dict()\n",
    "for term, occur in all_terms.items():\n",
    "    term_frequency[term] = occur/total_number_of_words\n",
    "\n",
    "term_frequency # issue with term frequency is if we have words like is, the, a gonna occur more hence term frequency is gonna be more, hence\n",
    "# just computing the term frequency is not enough, we need to compute the inverse document frequency"
   ]
  },
  {
   "cell_type": "code",
   "execution_count": 27,
   "metadata": {},
   "outputs": [
    {
     "data": {
      "text/plain": [
       "{'hello': 0.05301347274662915,\n",
       " 'world': 0.026506736373314577,\n",
       " 'how': 0.026506736373314577,\n",
       " 'are': 0.026506736373314577,\n",
       " 'you': 0.009782847725315624,\n",
       " 'doing': 0.05301347274662915,\n",
       " 'everything': 0.05301347274662915,\n",
       " 'is': 0.0,\n",
       " 'ok!': 0.026506736373314577,\n",
       " 'i': 0.0,\n",
       " 'am': 0.026506736373314577,\n",
       " 'great,': 0.026506736373314577,\n",
       " 'and': 0.009782847725315624,\n",
       " 'ok': 0.009782847725315624}"
      ]
     },
     "execution_count": 27,
     "metadata": {},
     "output_type": "execute_result"
    }
   ],
   "source": [
    "# idf = log(N(number of document D)/number of document D/with term t)\n",
    "tf_idf = dict()\n",
    "for term, value in all_terms.items():\n",
    "    term_all_docs = list(filter(lambda x: term in x , corpus)) # we check for given word in how many document it occur in total \n",
    "    idf = np.log10(len(corpus)/len(term_all_docs))# once we have the idf we can perform the tf-idf = tf*idf \n",
    "    tf_idf[term] = term_frequency[term] * idf\n",
    "\n",
    "tf_idf"
   ]
  },
  {
   "cell_type": "markdown",
   "metadata": {},
   "source": [
    "We are going to use tf-idf library from sklearn to compute it"
   ]
  },
  {
   "cell_type": "code",
   "execution_count": 28,
   "metadata": {},
   "outputs": [],
   "source": [
    "from sklearn.feature_extraction.text  import TfidfVectorizer\n",
    "\n",
    "tf_idf = TfidfVectorizer()\n",
    "arr = tf_idf.fit_transform(np.array(corpus)).toarray()"
   ]
  },
  {
   "cell_type": "code",
   "execution_count": 29,
   "metadata": {},
   "outputs": [
    {
     "data": {
      "text/plain": [
       "array([[0.        , 0.20605592, 0.15671084, 0.20605592, 0.        ,\n",
       "        0.        , 0.41211185, 0.        , 0.41211185, 0.20605592,\n",
       "        0.41211185, 0.20605592, 0.2433999 , 0.        , 0.        ,\n",
       "        0.        , 0.        , 0.        , 0.        , 0.        ,\n",
       "        0.41211185, 0.        , 0.        , 0.        , 0.        ,\n",
       "        0.        , 0.        , 0.        , 0.        , 0.        ,\n",
       "        0.20605592, 0.15671084],\n",
       "       [0.24695029, 0.        , 0.18781206, 0.        , 0.        ,\n",
       "        0.24695029, 0.        , 0.        , 0.        , 0.        ,\n",
       "        0.        , 0.        , 0.14585282, 0.24695029, 0.24695029,\n",
       "        0.37562412, 0.        , 0.        , 0.49390058, 0.24695029,\n",
       "        0.        , 0.        , 0.24695029, 0.        , 0.        ,\n",
       "        0.18781206, 0.18781206, 0.24695029, 0.        , 0.24695029,\n",
       "        0.        , 0.        ],\n",
       "       [0.        , 0.        , 0.        , 0.        , 0.15154296,\n",
       "        0.        , 0.        , 0.30308593, 0.        , 0.        ,\n",
       "        0.        , 0.        , 0.08950372, 0.        , 0.        ,\n",
       "        0.34575699, 0.45462889, 0.15154296, 0.        , 0.        ,\n",
       "        0.        , 0.15154296, 0.        , 0.15154296, 0.15154296,\n",
       "        0.34575699, 0.11525233, 0.        , 0.45462889, 0.        ,\n",
       "        0.        , 0.34575699]])"
      ]
     },
     "execution_count": 29,
     "metadata": {},
     "output_type": "execute_result"
    }
   ],
   "source": [
    "arr"
   ]
  },
  {
   "cell_type": "markdown",
   "metadata": {},
   "source": [
    "Tokenizer : The idea is nothing but to split the sentence into words, or words into characters."
   ]
  },
  {
   "cell_type": "code",
   "execution_count": 30,
   "metadata": {},
   "outputs": [
    {
     "name": "stdout",
     "output_type": "stream",
     "text": [
      "['hello', 'world', 'how', 'are', 'you', 'doing', 'everything', 'is', 'ok!', 'hello', 'i', 'am', 'doing', 'great,', 'and', 'everything', 'is', 'ok']\n",
      "['I', 'like', 'the', 'movie', 'john', 'wick', 'and', 'i', 'is', 'want', 'to', 'rewatch', 'it', 'again!,', 'i', 'like', 'movie', 'of', 'david']\n",
      "['You', \"don't\", 'like', 'the', 'way', 'you', 'look,', \"that's\", 'pretty', 'is', 'sad', 'to', 'me!,', 'I', 'like', 'the', 'way', 'i', 'look', 'but', 'i', \"don't\", 'like', 'the', 'way', 'you', 'look']\n"
     ]
    }
   ],
   "source": [
    "# for example given the corpus we have the idea of tokenization is to split them \n",
    "for cor in corpus:\n",
    "    print(cor.split())\n",
    "# we have better strategies to split these sentences, but the core idea will remain the same for all"
   ]
  },
  {
   "cell_type": "markdown",
   "metadata": {},
   "source": [
    " Bag of words "
   ]
  },
  {
   "cell_type": "code",
   "execution_count": 31,
   "metadata": {},
   "outputs": [],
   "source": [
    "unique_words = list(set(\" \".join(corpus).split()))\n",
    "\n",
    "df= pd.DataFrame(columns=[\"unique_words\", \"corpus0\", \"corpus1\",\"corpus2\"])\n",
    "\n",
    "for idx, cor in enumerate(corpus):\n",
    "    occurance = Counter(cor.split())\n",
    "    total_match = []\n",
    "    for word in unique_words:\n",
    "        # i want to counter number of time this word occur in the corpus for first and second sentence\n",
    "        total_match.append(occurance[word])\n",
    "    \n",
    "    df[f\"corpus{idx}\"]=total_match\n",
    "\n",
    "df[\"unique_words\"] = unique_words"
   ]
  },
  {
   "cell_type": "code",
   "execution_count": 32,
   "metadata": {},
   "outputs": [
    {
     "data": {
      "text/plain": [
       "array([[0, 0, 0, 1, 0, 0, 1, 2, 2, 1, 0, 0, 0, 0, 0, 2, 1, 0, 0, 0, 0, 0,\n",
       "        2, 0, 0, 0, 1, 0, 1, 0, 0, 1, 1, 0, 1, 0, 1],\n",
       "       [1, 1, 0, 1, 1, 0, 0, 0, 0, 0, 2, 0, 0, 0, 1, 1, 2, 0, 0, 1, 1, 1,\n",
       "        0, 1, 0, 1, 0, 1, 0, 2, 1, 0, 0, 0, 0, 0, 0],\n",
       "       [3, 0, 1, 0, 1, 1, 0, 0, 0, 0, 0, 2, 1, 1, 0, 1, 2, 1, 2, 0, 0, 0,\n",
       "        0, 1, 1, 0, 0, 0, 0, 3, 0, 0, 2, 3, 0, 1, 0]])"
      ]
     },
     "execution_count": 32,
     "metadata": {},
     "output_type": "execute_result"
    }
   ],
   "source": [
    "# BOW\n",
    "df[[\"corpus0\", \"corpus1\", \"corpus2\"]].values.T\n"
   ]
  },
  {
   "cell_type": "code",
   "execution_count": 33,
   "metadata": {},
   "outputs": [
    {
     "data": {
      "text/plain": [
       "array([[0, 1, 1, 1, 0, 0, 2, 0, 2, 1, 2, 1, 2, 0, 0, 0, 0, 0, 0, 0, 2, 0,\n",
       "        0, 0, 0, 0, 0, 0, 0, 0, 1, 1],\n",
       "       [1, 0, 1, 0, 0, 1, 0, 0, 0, 0, 0, 0, 1, 1, 1, 2, 0, 0, 2, 1, 0, 0,\n",
       "        1, 0, 0, 1, 1, 1, 0, 1, 0, 0],\n",
       "       [0, 0, 0, 0, 1, 0, 0, 2, 0, 0, 0, 0, 1, 0, 0, 3, 3, 1, 0, 0, 0, 1,\n",
       "        0, 1, 1, 3, 1, 0, 3, 0, 0, 3]])"
      ]
     },
     "execution_count": 33,
     "metadata": {},
     "output_type": "execute_result"
    }
   ],
   "source": [
    "# using sklearn library to compute the BOW \n",
    "from sklearn.feature_extraction.text import CountVectorizer\n",
    "\n",
    "bagofwords = CountVectorizer(ngram_range=(1,1))\n",
    "bagofwords.fit_transform(corpus).toarray()"
   ]
  },
  {
   "cell_type": "code",
   "execution_count": 34,
   "metadata": {},
   "outputs": [
    {
     "data": {
      "text/plain": [
       "array(['again', 'am', 'and', 'are', 'but', 'david', 'doing', 'don',\n",
       "       'everything', 'great', 'hello', 'how', 'is', 'it', 'john', 'like',\n",
       "       'look', 'me', 'movie', 'of', 'ok', 'pretty', 'rewatch', 'sad',\n",
       "       'that', 'the', 'to', 'want', 'way', 'wick', 'world', 'you'],\n",
       "      dtype=object)"
      ]
     },
     "execution_count": 34,
     "metadata": {},
     "output_type": "execute_result"
    }
   ],
   "source": [
    "bagofwords.get_feature_names_out()"
   ]
  },
  {
   "cell_type": "markdown",
   "metadata": {},
   "source": [
    "Vocabulary Construction concept of padding, truncation."
   ]
  },
  {
   "cell_type": "code",
   "execution_count": 35,
   "metadata": {},
   "outputs": [],
   "source": [
    "import pandas as pd \n",
    "import numpy as np"
   ]
  },
  {
   "cell_type": "code",
   "execution_count": 36,
   "metadata": {},
   "outputs": [],
   "source": [
    "df = pd.read_csv(\"spam.csv\", encoding=\"latin1\")\n",
    "df.drop(columns=[\"Unnamed: 2\", \"Unnamed: 3\",\"Unnamed: 4\"], axis=1, inplace=True)"
   ]
  },
  {
   "cell_type": "code",
   "execution_count": 37,
   "metadata": {},
   "outputs": [],
   "source": [
    "from collections import Counter\n",
    "term_frequency = []\n",
    "for idx, rows in df.iterrows():\n",
    "    d =rows[\"v2\"]\n",
    "    total_number_of_words = len(d.split()) # total number of words \n",
    "    word_frequency = Counter(d.split()) # word frequency\n",
    "    term_frequency.append({key: value/total_number_of_words for key, value in word_frequency.items()})\n",
    "\n",
    "idf = []\n",
    "total_number_of_rows = df.shape[0]\n",
    "\n",
    "for freq in term_frequency:\n",
    "    idf_dict = dict()\n",
    "    for key, value in freq.items():\n",
    "        word_present_in_total_corpus = list(filter(lambda x: key in x, df[\"v2\"].values.tolist()))\n",
    "        idf_dict[key] = np.log10(total_number_of_words/len(word_present_in_total_corpus))\n",
    "\n",
    "    idf.append(idf_dict)\n"
   ]
  },
  {
   "cell_type": "code",
   "execution_count": 38,
   "metadata": {},
   "outputs": [],
   "source": [
    "assert len(idf)  == len(term_frequency)"
   ]
  },
  {
   "cell_type": "code",
   "execution_count": 39,
   "metadata": {},
   "outputs": [],
   "source": [
    "\n",
    "tf_idf = []\n",
    "for term_freq,idf_freq in zip(term_frequency, idf):\n",
    "    tf_idf.append([value * idf_freq.get(key) for key, value in term_freq.items()]) # list comprehension"
   ]
  },
  {
   "cell_type": "code",
   "execution_count": 40,
   "metadata": {},
   "outputs": [],
   "source": [
    "# concept of padding and trunction \n",
    "vocabulary = list(set(\" \".join(df[\"v2\"].values.tolist()).split()))[:500]\n",
    "vocabulary_size = len(vocabulary)\n"
   ]
  },
  {
   "cell_type": "code",
   "execution_count": 41,
   "metadata": {},
   "outputs": [],
   "source": [
    "for i in range(len(tf_idf)):\n",
    "    if len(tf_idf[i]) > vocabulary_size:\n",
    "        # it need to be truncated\n",
    "        tf_idf[i]  =tf_idf[i][:vocabulary_size]\n",
    "    elif len(tf_idf[i]) < vocabulary_size:\n",
    "        # padding \n",
    "        padding_span = vocabulary_size - len(tf_idf[i])\n",
    "        tf_idf[i] = tf_idf[i] + [0]*padding_span\n"
   ]
  },
  {
   "cell_type": "code",
   "execution_count": 42,
   "metadata": {},
   "outputs": [],
   "source": [
    "tf_idf = np.array(tf_idf)"
   ]
  },
  {
   "cell_type": "code",
   "execution_count": 43,
   "metadata": {},
   "outputs": [
    {
     "data": {
      "text/plain": [
       "(5572, 500)"
      ]
     },
     "execution_count": 43,
     "metadata": {},
     "output_type": "execute_result"
    }
   ],
   "source": [
    "tf_idf.shape"
   ]
  },
  {
   "cell_type": "markdown",
   "metadata": {},
   "source": [
    "# Remove Punctuation. Remove Stopwords, Remove digits, Remove links etc."
   ]
  },
  {
   "cell_type": "code",
   "execution_count": 44,
   "metadata": {},
   "outputs": [
    {
     "ename": "SyntaxError",
     "evalue": "trailing comma not allowed without surrounding parentheses (1317589095.py, line 3)",
     "output_type": "error",
     "traceback": [
      "\u001b[0;36m  Cell \u001b[0;32mIn[44], line 3\u001b[0;36m\u001b[0m\n\u001b[0;31m    from nltk.stem.porter import PorterStemmer,\u001b[0m\n\u001b[0m                                               ^\u001b[0m\n\u001b[0;31mSyntaxError\u001b[0m\u001b[0;31m:\u001b[0m trailing comma not allowed without surrounding parentheses\n"
     ]
    }
   ],
   "source": [
    "import nltk\n",
    "from nltk.corpus import stopwords\n",
    "from nltk.stem.porter import PorterStemmer,\n",
    "stop_words = list(set(stopwords.words(\"english\")))\n"
   ]
  },
  {
   "cell_type": "code",
   "execution_count": null,
   "metadata": {},
   "outputs": [
    {
     "data": {
      "text/plain": [
       "'!\"#$%&\\'()*+,-./:;<=>?@[\\\\]^_`{|}~'"
      ]
     },
     "execution_count": 69,
     "metadata": {},
     "output_type": "execute_result"
    }
   ],
   "source": [
    "import string \n",
    "\n",
    "string.punctuation"
   ]
  },
  {
   "cell_type": "code",
   "execution_count": null,
   "metadata": {},
   "outputs": [],
   "source": [
    "stemmer = PorterStemmer()"
   ]
  },
  {
   "cell_type": "code",
   "execution_count": null,
   "metadata": {},
   "outputs": [],
   "source": [
    "import re \n",
    "import string \n",
    "def preprocessing(data):\n",
    "    # links  removed\n",
    "    data = re.sub(r\"http\\S+\", \"\", data)\n",
    "    data = re.sub(r\"www\\S+\",\"\", data)\n",
    "    data = re.sub(r\"\\d+\", \"\", data)\n",
    "    data = re.sub(r'[^\\x00-\\x7F]+',' ', data)\n",
    "    # punctuation remove\n",
    "    data = data.translate(str.maketrans( '', '',string.punctuation))\n",
    "\n",
    "    # take only those words for which len is more than 2\n",
    "    data = \" \".join(list(filter(lambda x: len(x) > 2, data.split())))\n",
    "\n",
    "    data = \" \".join(list(map(lambda x: stemmer.stem(x), data.split())))\n",
    "    \n",
    "    data_without_stopwords = list(filter(lambda x: x not in stop_words, data.split()))\n",
    "    data = \" \".join(data_without_stopwords).lower()\n",
    "    # stemming \n",
    "    return data\n",
    "\n",
    "\n",
    "df[\"filtered_v2\"] = df[\"v2\"].apply(preprocessing)\n"
   ]
  },
  {
   "cell_type": "code",
   "execution_count": null,
   "metadata": {},
   "outputs": [
    {
     "data": {
      "text/plain": [
       "6773"
      ]
     },
     "execution_count": 110,
     "metadata": {},
     "output_type": "execute_result"
    }
   ],
   "source": [
    "len(set(\" \".join(df[\"filtered_v2\"].values.tolist()).split()))"
   ]
  },
  {
   "cell_type": "markdown",
   "metadata": {},
   "source": [
    "### Word to do \n",
    "1. Take the dataset and apply all the sufficient preprocessing. \n",
    "2. plot the world cloud to show the most occuring words, Plot the bar chart for top 10 most occuring words in whole Document(D).\n",
    "3. Proceed towards applying two different algorithm\n",
    "  * TF-idf -- take care of padding and truncation.\n",
    "  * BOW - take care of padding and truncation.\n",
    "4. Convert them to array make sure to use vocabulary size as max size. \n",
    "5. Try to put Markdown to explain.\n",
    "\n",
    "6. complete the whole pipeline for training and testing. "
   ]
  },
  {
   "cell_type": "markdown",
   "metadata": {},
   "source": [
    "# Completing the rest of data construction"
   ]
  },
  {
   "cell_type": "code",
   "execution_count": 59,
   "metadata": {},
   "outputs": [],
   "source": [
    "cities = [\"New York\", \"Los Angeles\", \"Chicago\", \"Houston\", \"Phoenix\", \"Philadelphia\", \"San Antonio\", \"San Diego\", \"Dallas\", \"San Jose\", \"Austin\", \"Jacksonville\", \"San Francisco\", \"Indianapolis\", \"Columbus\", \"Fort Worth\", \"Charlotte\", \"Seattle\", \"Denver\", \"Washington\"]\n"
   ]
  },
  {
   "cell_type": "code",
   "execution_count": 82,
   "metadata": {},
   "outputs": [],
   "source": [
    "import random\n",
    "random_sample_cities = random.sample(cities, 20)"
   ]
  },
  {
   "cell_type": "code",
   "execution_count": 85,
   "metadata": {},
   "outputs": [],
   "source": [
    "columsn_without_city = list(filter(lambda x: \"city\" not in x,  df_copy.columns.tolist()))"
   ]
  },
  {
   "cell_type": "code",
   "execution_count": 95,
   "metadata": {},
   "outputs": [],
   "source": [
    "df_new_cities = pd.DataFrame(data=random_sample_cities, columns=[\"city\"])\n",
    "\n",
    "for col in columsn_without_city:\n",
    "    df_new_cities[col] = \"None\""
   ]
  },
  {
   "cell_type": "code",
   "execution_count": 96,
   "metadata": {},
   "outputs": [
    {
     "data": {
      "text/html": [
       "<div>\n",
       "<style scoped>\n",
       "    .dataframe tbody tr th:only-of-type {\n",
       "        vertical-align: middle;\n",
       "    }\n",
       "\n",
       "    .dataframe tbody tr th {\n",
       "        vertical-align: top;\n",
       "    }\n",
       "\n",
       "    .dataframe thead th {\n",
       "        text-align: right;\n",
       "    }\n",
       "</style>\n",
       "<table border=\"1\" class=\"dataframe\">\n",
       "  <thead>\n",
       "    <tr style=\"text-align: right;\">\n",
       "      <th></th>\n",
       "      <th>city</th>\n",
       "      <th>age</th>\n",
       "      <th>gender</th>\n",
       "      <th>income</th>\n",
       "      <th>days_on_platform</th>\n",
       "      <th>purchases</th>\n",
       "    </tr>\n",
       "  </thead>\n",
       "  <tbody>\n",
       "    <tr>\n",
       "      <th>0</th>\n",
       "      <td>Denver</td>\n",
       "      <td>None</td>\n",
       "      <td>None</td>\n",
       "      <td>None</td>\n",
       "      <td>None</td>\n",
       "      <td>None</td>\n",
       "    </tr>\n",
       "    <tr>\n",
       "      <th>1</th>\n",
       "      <td>Washington</td>\n",
       "      <td>None</td>\n",
       "      <td>None</td>\n",
       "      <td>None</td>\n",
       "      <td>None</td>\n",
       "      <td>None</td>\n",
       "    </tr>\n",
       "    <tr>\n",
       "      <th>2</th>\n",
       "      <td>San Diego</td>\n",
       "      <td>None</td>\n",
       "      <td>None</td>\n",
       "      <td>None</td>\n",
       "      <td>None</td>\n",
       "      <td>None</td>\n",
       "    </tr>\n",
       "    <tr>\n",
       "      <th>3</th>\n",
       "      <td>Los Angeles</td>\n",
       "      <td>None</td>\n",
       "      <td>None</td>\n",
       "      <td>None</td>\n",
       "      <td>None</td>\n",
       "      <td>None</td>\n",
       "    </tr>\n",
       "    <tr>\n",
       "      <th>4</th>\n",
       "      <td>Austin</td>\n",
       "      <td>None</td>\n",
       "      <td>None</td>\n",
       "      <td>None</td>\n",
       "      <td>None</td>\n",
       "      <td>None</td>\n",
       "    </tr>\n",
       "    <tr>\n",
       "      <th>5</th>\n",
       "      <td>Dallas</td>\n",
       "      <td>None</td>\n",
       "      <td>None</td>\n",
       "      <td>None</td>\n",
       "      <td>None</td>\n",
       "      <td>None</td>\n",
       "    </tr>\n",
       "    <tr>\n",
       "      <th>6</th>\n",
       "      <td>San Antonio</td>\n",
       "      <td>None</td>\n",
       "      <td>None</td>\n",
       "      <td>None</td>\n",
       "      <td>None</td>\n",
       "      <td>None</td>\n",
       "    </tr>\n",
       "    <tr>\n",
       "      <th>7</th>\n",
       "      <td>Jacksonville</td>\n",
       "      <td>None</td>\n",
       "      <td>None</td>\n",
       "      <td>None</td>\n",
       "      <td>None</td>\n",
       "      <td>None</td>\n",
       "    </tr>\n",
       "    <tr>\n",
       "      <th>8</th>\n",
       "      <td>Columbus</td>\n",
       "      <td>None</td>\n",
       "      <td>None</td>\n",
       "      <td>None</td>\n",
       "      <td>None</td>\n",
       "      <td>None</td>\n",
       "    </tr>\n",
       "    <tr>\n",
       "      <th>9</th>\n",
       "      <td>Houston</td>\n",
       "      <td>None</td>\n",
       "      <td>None</td>\n",
       "      <td>None</td>\n",
       "      <td>None</td>\n",
       "      <td>None</td>\n",
       "    </tr>\n",
       "    <tr>\n",
       "      <th>10</th>\n",
       "      <td>Seattle</td>\n",
       "      <td>None</td>\n",
       "      <td>None</td>\n",
       "      <td>None</td>\n",
       "      <td>None</td>\n",
       "      <td>None</td>\n",
       "    </tr>\n",
       "    <tr>\n",
       "      <th>11</th>\n",
       "      <td>San Jose</td>\n",
       "      <td>None</td>\n",
       "      <td>None</td>\n",
       "      <td>None</td>\n",
       "      <td>None</td>\n",
       "      <td>None</td>\n",
       "    </tr>\n",
       "    <tr>\n",
       "      <th>12</th>\n",
       "      <td>New York</td>\n",
       "      <td>None</td>\n",
       "      <td>None</td>\n",
       "      <td>None</td>\n",
       "      <td>None</td>\n",
       "      <td>None</td>\n",
       "    </tr>\n",
       "    <tr>\n",
       "      <th>13</th>\n",
       "      <td>Chicago</td>\n",
       "      <td>None</td>\n",
       "      <td>None</td>\n",
       "      <td>None</td>\n",
       "      <td>None</td>\n",
       "      <td>None</td>\n",
       "    </tr>\n",
       "    <tr>\n",
       "      <th>14</th>\n",
       "      <td>Fort Worth</td>\n",
       "      <td>None</td>\n",
       "      <td>None</td>\n",
       "      <td>None</td>\n",
       "      <td>None</td>\n",
       "      <td>None</td>\n",
       "    </tr>\n",
       "    <tr>\n",
       "      <th>15</th>\n",
       "      <td>Philadelphia</td>\n",
       "      <td>None</td>\n",
       "      <td>None</td>\n",
       "      <td>None</td>\n",
       "      <td>None</td>\n",
       "      <td>None</td>\n",
       "    </tr>\n",
       "    <tr>\n",
       "      <th>16</th>\n",
       "      <td>Indianapolis</td>\n",
       "      <td>None</td>\n",
       "      <td>None</td>\n",
       "      <td>None</td>\n",
       "      <td>None</td>\n",
       "      <td>None</td>\n",
       "    </tr>\n",
       "    <tr>\n",
       "      <th>17</th>\n",
       "      <td>San Francisco</td>\n",
       "      <td>None</td>\n",
       "      <td>None</td>\n",
       "      <td>None</td>\n",
       "      <td>None</td>\n",
       "      <td>None</td>\n",
       "    </tr>\n",
       "    <tr>\n",
       "      <th>18</th>\n",
       "      <td>Phoenix</td>\n",
       "      <td>None</td>\n",
       "      <td>None</td>\n",
       "      <td>None</td>\n",
       "      <td>None</td>\n",
       "      <td>None</td>\n",
       "    </tr>\n",
       "    <tr>\n",
       "      <th>19</th>\n",
       "      <td>Charlotte</td>\n",
       "      <td>None</td>\n",
       "      <td>None</td>\n",
       "      <td>None</td>\n",
       "      <td>None</td>\n",
       "      <td>None</td>\n",
       "    </tr>\n",
       "  </tbody>\n",
       "</table>\n",
       "</div>"
      ],
      "text/plain": [
       "             city   age gender income days_on_platform purchases\n",
       "0          Denver  None   None   None             None      None\n",
       "1      Washington  None   None   None             None      None\n",
       "2       San Diego  None   None   None             None      None\n",
       "3     Los Angeles  None   None   None             None      None\n",
       "4          Austin  None   None   None             None      None\n",
       "5          Dallas  None   None   None             None      None\n",
       "6     San Antonio  None   None   None             None      None\n",
       "7    Jacksonville  None   None   None             None      None\n",
       "8        Columbus  None   None   None             None      None\n",
       "9         Houston  None   None   None             None      None\n",
       "10        Seattle  None   None   None             None      None\n",
       "11       San Jose  None   None   None             None      None\n",
       "12       New York  None   None   None             None      None\n",
       "13        Chicago  None   None   None             None      None\n",
       "14     Fort Worth  None   None   None             None      None\n",
       "15   Philadelphia  None   None   None             None      None\n",
       "16   Indianapolis  None   None   None             None      None\n",
       "17  San Francisco  None   None   None             None      None\n",
       "18        Phoenix  None   None   None             None      None\n",
       "19      Charlotte  None   None   None             None      None"
      ]
     },
     "execution_count": 96,
     "metadata": {},
     "output_type": "execute_result"
    }
   ],
   "source": [
    "df_new_cities"
   ]
  },
  {
   "cell_type": "code",
   "execution_count": 104,
   "metadata": {},
   "outputs": [],
   "source": [
    "df_copy_2 = pd.concat([df_copy, df_new_cities], axis=0)"
   ]
  },
  {
   "cell_type": "code",
   "execution_count": 108,
   "metadata": {},
   "outputs": [],
   "source": [
    "vocab_city = dict()\n",
    "dd = df_copy_2[\"city\"].value_counts()/df_copy_2.shape[0]\n",
    "for val in dd.items():\n",
    "    vocab_city[val[0]] = val[1]\n",
    "df_copy_2[\"city\"] = df_copy_2[\"city\"].apply(lambda x: vocab_city.get(x))\n"
   ]
  },
  {
   "cell_type": "code",
   "execution_count": 93,
   "metadata": {},
   "outputs": [
    {
     "data": {
      "text/plain": [
       "Series([], Name: count, dtype: int64)"
      ]
     },
     "execution_count": 93,
     "metadata": {},
     "output_type": "execute_result"
    }
   ],
   "source": [
    "df_copy_2.value_counts()"
   ]
  },
  {
   "cell_type": "code",
   "execution_count": 132,
   "metadata": {},
   "outputs": [],
   "source": [
    "temp_df = df_copy[\"city\"].value_counts()/df_copy.shape[0]\n",
    "\n",
    "vocab_city = dict()\n",
    "\n",
    "for rows in temp_df.items():\n",
    "    vocab_city[rows[0]] = rows[1]"
   ]
  },
  {
   "cell_type": "code",
   "execution_count": 117,
   "metadata": {},
   "outputs": [],
   "source": [
    "from sklearn.preprocessing import OneHotEncoder"
   ]
  },
  {
   "cell_type": "code",
   "execution_count": 48,
   "metadata": {},
   "outputs": [],
   "source": [
    "vocab = {\"male\": 0, \"female\":1}"
   ]
  },
  {
   "cell_type": "code",
   "execution_count": 49,
   "metadata": {},
   "outputs": [],
   "source": [
    "df_copy[\"gender\"]  = df_copy[\"gender\"].apply(lambda x: vocab[x.lower()])"
   ]
  },
  {
   "cell_type": "code",
   "execution_count": 135,
   "metadata": {},
   "outputs": [],
   "source": [
    "df_copy[\"city\"] = df_copy[\"city\"].apply(lambda x: vocab_city.get(x))\n"
   ]
  },
  {
   "cell_type": "code",
   "execution_count": 145,
   "metadata": {},
   "outputs": [],
   "source": [
    "from sklearn.preprocessing import  StandardScaler, MinMaxScaler\n",
    "minmaxscaler = MinMaxScaler()\n",
    "standarscaler = StandardScaler()\n",
    "\n",
    "df_1 = pd.DataFrame(minmaxscaler.fit_transform(df_copy.values), columns=df_copy.columns)\n",
    "df_2 = pd.DataFrame(standarscaler.fit_transform(df_copy.values), columns=df_copy.columns)"
   ]
  },
  {
   "cell_type": "markdown",
   "metadata": {},
   "source": [
    "# Corss validation\n",
    "* Splitting wih train_test_split"
   ]
  },
  {
   "cell_type": "code",
   "execution_count": 152,
   "metadata": {},
   "outputs": [],
   "source": [
    "X = df_1.drop(\"gender\", axis=1)\n",
    "Y = df_1[\"gender\"]"
   ]
  },
  {
   "cell_type": "code",
   "execution_count": 157,
   "metadata": {},
   "outputs": [],
   "source": [
    "from sklearn.model_selection import train_test_split\n",
    "\n",
    "trainX, testX, trainY, testY =  train_test_split(X, Y, test_size=0.3, random_state=42)\n"
   ]
  },
  {
   "cell_type": "markdown",
   "metadata": {},
   "source": [
    "* K Fold cross validation"
   ]
  },
  {
   "cell_type": "code",
   "execution_count": 164,
   "metadata": {},
   "outputs": [
    {
     "name": "stdout",
     "output_type": "stream",
     "text": [
      "(4000, 6)\n",
      "(1000, 6)\n",
      "(4000, 6)\n",
      "(1000, 6)\n",
      "(4000, 6)\n",
      "(1000, 6)\n",
      "(4000, 6)\n",
      "(1000, 6)\n",
      "(4000, 6)\n",
      "(1000, 6)\n"
     ]
    }
   ],
   "source": [
    "from sklearn.model_selection import KFold\n",
    "kfold = KFold(n_splits=5)\n",
    "\n",
    "for train_idx, test_idx in kfold.split(df_1):\n",
    "    print(df_1.iloc[train_idx].shape)\n",
    "    print(df_1.iloc[test_idx].shape)\n"
   ]
  }
 ],
 "metadata": {
  "kernelspec": {
   "display_name": "env-langchain",
   "language": "python",
   "name": "python3"
  },
  "language_info": {
   "codemirror_mode": {
    "name": "ipython",
    "version": 3
   },
   "file_extension": ".py",
   "mimetype": "text/x-python",
   "name": "python",
   "nbconvert_exporter": "python",
   "pygments_lexer": "ipython3",
   "version": "3.12.2"
  }
 },
 "nbformat": 4,
 "nbformat_minor": 2
}
